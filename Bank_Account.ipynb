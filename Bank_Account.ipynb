{
 "cells": [
  {
   "cell_type": "code",
   "execution_count": 31,
   "id": "062c41bc-c639-4999-a810-395dc69de903",
   "metadata": {},
   "outputs": [],
   "source": [
    "class account:\n",
    "    def __init__(self, account_number: str, account_balance: float, account_holder: str):\n",
    "        self.account_number = account_number\n",
    "        self.account_balance = account_balance\n",
    "        self.account_holder = account_holder\n",
    "\n",
    "    def deposit(self, amount: float):\n",
    "        if amount > 0:\n",
    "            self.account_balance += amount\n",
    "            print(f'Deposited {amount}, into your bank account and your new balance is {self.account_balance}')\n",
    "        else:\n",
    "            print('invalid amount')\n",
    "    def withdraw(self, amount: float):\n",
    "        if amount > 0:\n",
    "            if self.account_balance >= amount:\n",
    "                self.account_balance -= amount\n",
    "                print(f'withdrawn {amount} from your account, and your new account balance is {self.account_balance}')\n",
    "            else:\n",
    "                print('insufficient funds')\n",
    "        else:\n",
    "            print('invalid amount')\n",
    "    def check_balance(self):\n",
    "        print(f'your account balance is {self.account_balance}')"
   ]
  },
  {
   "cell_type": "code",
   "execution_count": null,
   "id": "ab5dc5d9-f54f-49f1-86af-0d421b3d1fa0",
   "metadata": {},
   "outputs": [],
   "source": []
  }
 ],
 "metadata": {
  "kernelspec": {
   "display_name": "Python 3 (ipykernel)",
   "language": "python",
   "name": "python3"
  },
  "language_info": {
   "codemirror_mode": {
    "name": "ipython",
    "version": 3
   },
   "file_extension": ".py",
   "mimetype": "text/x-python",
   "name": "python",
   "nbconvert_exporter": "python",
   "pygments_lexer": "ipython3",
   "version": "3.12.7"
  }
 },
 "nbformat": 4,
 "nbformat_minor": 5
}
