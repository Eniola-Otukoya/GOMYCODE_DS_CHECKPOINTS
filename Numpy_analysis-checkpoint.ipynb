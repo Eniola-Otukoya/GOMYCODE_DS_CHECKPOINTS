{
 "cells": [
  {
   "cell_type": "code",
   "execution_count": 4,
   "id": "1d083175-1de4-4c14-aa21-618dfe05dc9f",
   "metadata": {},
   "outputs": [],
   "source": [
    "# Import the numpy library and create the \"grades\" array as specified \n",
    "import numpy as np\n",
    "grades = np.array([85, 90, 88, 92, 95, 80, 75, 98, 89, 83])"
   ]
  },
  {
   "cell_type": "code",
   "execution_count": 6,
   "id": "1cda4537-7304-4366-abbb-9273a9f8b84b",
   "metadata": {},
   "outputs": [
    {
     "data": {
      "text/plain": [
       "array([85, 90, 88, 92, 95, 80, 75, 98, 89, 83])"
      ]
     },
     "execution_count": 6,
     "metadata": {},
     "output_type": "execute_result"
    }
   ],
   "source": [
    "grades"
   ]
  },
  {
   "cell_type": "code",
   "execution_count": 8,
   "id": "bd665d72-892d-4787-b89f-41bcde0c902c",
   "metadata": {},
   "outputs": [
    {
     "data": {
      "text/plain": [
       "87.5"
      ]
     },
     "execution_count": 8,
     "metadata": {},
     "output_type": "execute_result"
    }
   ],
   "source": [
    "# Calculate mean\n",
    "grades_mean = np.mean(grades)\n",
    "grades_mean"
   ]
  },
  {
   "cell_type": "code",
   "execution_count": 10,
   "id": "2fc1e248-8c39-41cb-8f2f-43b164977f48",
   "metadata": {},
   "outputs": [
    {
     "data": {
      "text/plain": [
       "88.5"
      ]
     },
     "execution_count": 10,
     "metadata": {},
     "output_type": "execute_result"
    }
   ],
   "source": [
    "# median\n",
    "grades_median = np.median(grades)\n",
    "grades_median"
   ]
  },
  {
   "cell_type": "code",
   "execution_count": 12,
   "id": "77ee2cf8-fd3c-4df9-bb92-76da58f023b8",
   "metadata": {},
   "outputs": [
    {
     "data": {
      "text/plain": [
       "6.591661399070799"
      ]
     },
     "execution_count": 12,
     "metadata": {},
     "output_type": "execute_result"
    }
   ],
   "source": [
    "# standard deviation\n",
    "grades_std = np.std(grades)\n",
    "grades_std"
   ]
  },
  {
   "cell_type": "code",
   "execution_count": 14,
   "id": "982cebc0-529a-4bc1-b16a-81627925625a",
   "metadata": {},
   "outputs": [
    {
     "data": {
      "text/plain": [
       "98"
      ]
     },
     "execution_count": 14,
     "metadata": {},
     "output_type": "execute_result"
    }
   ],
   "source": [
    "grades_max = np.max(grades)\n",
    "grades_max"
   ]
  },
  {
   "cell_type": "code",
   "execution_count": 16,
   "id": "36f5c6cd-9d66-4490-8703-72760bf96b1f",
   "metadata": {},
   "outputs": [
    {
     "data": {
      "text/plain": [
       "75"
      ]
     },
     "execution_count": 16,
     "metadata": {},
     "output_type": "execute_result"
    }
   ],
   "source": [
    "grades_min = np.min(grades)\n",
    "grades_min"
   ]
  },
  {
   "cell_type": "code",
   "execution_count": 18,
   "id": "00a42c97-905b-40c2-8ad9-c4204f79c47e",
   "metadata": {},
   "outputs": [
    {
     "data": {
      "text/plain": [
       "array([75, 80, 83, 85, 88, 89, 90, 92, 95, 98])"
      ]
     },
     "execution_count": 18,
     "metadata": {},
     "output_type": "execute_result"
    }
   ],
   "source": [
    "# Use numpy function to sort the grades in ascending order.\n",
    "sorted_grades = np.sort(grades)\n",
    "sorted_grades"
   ]
  },
  {
   "cell_type": "code",
   "execution_count": 20,
   "id": "188781ef-34a1-4aeb-bdc1-6db3f873a215",
   "metadata": {},
   "outputs": [
    {
     "data": {
      "text/plain": [
       "7"
      ]
     },
     "execution_count": 20,
     "metadata": {},
     "output_type": "execute_result"
    }
   ],
   "source": [
    "# Use numpy function to find the index of the highest grade in the array\n",
    "index_highest_grade = np.argmax(grades)\n",
    "index_highest_grade"
   ]
  },
  {
   "cell_type": "code",
   "execution_count": 26,
   "id": "2d8bc586-3aaf-44d9-acb5-be6330ecf834",
   "metadata": {},
   "outputs": [
    {
     "data": {
      "text/plain": [
       "3"
      ]
     },
     "execution_count": 26,
     "metadata": {},
     "output_type": "execute_result"
    }
   ],
   "source": [
    "# Use numpy function to count the number of students who scored above 90.\n",
    "students_above_90 = np.sum(grades > 90)\n",
    "students_above_90"
   ]
  },
  {
   "cell_type": "code",
   "execution_count": 28,
   "id": "0cb10685-ceb2-4af6-bf1e-7a37dce9f1f0",
   "metadata": {},
   "outputs": [
    {
     "data": {
      "text/plain": [
       "0.0"
      ]
     },
     "execution_count": 28,
     "metadata": {},
     "output_type": "execute_result"
    }
   ],
   "source": [
    "# Calculate the percentage of students who scored below 75\n",
    "students_below_75 = np.sum(grades < 75)\n",
    "percentage_below_75 = (students_below_75 / len(grades)) * 100\n",
    "percentage_below_75"
   ]
  },
  {
   "cell_type": "code",
   "execution_count": 30,
   "id": "2c7af36e-a7dd-43e0-a9d8-27a1a40939c2",
   "metadata": {},
   "outputs": [
    {
     "data": {
      "text/plain": [
       "array([92, 95, 98])"
      ]
     },
     "execution_count": 30,
     "metadata": {},
     "output_type": "execute_result"
    }
   ],
   "source": [
    "# Extract all grades above 90 into \"high_performers\"\n",
    "high_performers = grades[grades > 90]\n",
    "high_performers"
   ]
  },
  {
   "cell_type": "code",
   "execution_count": 32,
   "id": "e109a9c7-565e-4db2-bbb1-5e84726ec6ec",
   "metadata": {},
   "outputs": [
    {
     "data": {
      "text/plain": [
       "array([85, 90, 88, 92, 95, 80, 98, 89, 83])"
      ]
     },
     "execution_count": 32,
     "metadata": {},
     "output_type": "execute_result"
    }
   ],
   "source": [
    "# Create a new array \"passing_grades\" with grades above 75\n",
    "passing_grades = grades[grades > 75]\n",
    "passing_grades "
   ]
  },
  {
   "cell_type": "code",
   "execution_count": 34,
   "id": "9d81cdf9-75b0-4ff6-bbfd-7ca8266b4238",
   "metadata": {},
   "outputs": [
    {
     "name": "stdout",
     "output_type": "stream",
     "text": [
      "Grades: [85 90 88 92 95 80 75 98 89 83]\n",
      "Mean: 87.5\n",
      "Median: 88.5\n",
      "Standard Deviation: 6.591661399070799\n",
      "Maximum Grade: 98\n",
      "Minimum Grade: 75\n",
      "Sorted Grades: [75 80 83 85 88 89 90 92 95 98]\n",
      "Index of Highest Grade: 7\n",
      "Number of Students Above 90: 3\n",
      "Percentage of Students Above 90: 3.00%\n",
      "Percentage of Students Below 75: 0.00%\n",
      "High Performers: [92 95 98]\n",
      "Passing Grades: [85 90 88 92 95 80 98 89 83]\n"
     ]
    }
   ],
   "source": [
    "# Printing all the results\n",
    "print(f\"Grades: {grades}\")\n",
    "print(f\"Mean: {grades_mean}\")\n",
    "print(f\"Median: {grades_median}\")\n",
    "print(f\"Standard Deviation: {grades_std}\")\n",
    "print(f\"Maximum Grade: {grades_max}\")\n",
    "print(f\"Minimum Grade: {grades_min}\")\n",
    "print(f\"Sorted Grades: {sorted_grades}\")\n",
    "print(f\"Index of Highest Grade: {index_highest_grade}\")\n",
    "print(f\"Number of Students Above 90: {students_above_90}\")\n",
    "print(f\"Percentage of Students Above 90: {percentage_above_90:.2f}%\")\n",
    "print(f\"Percentage of Students Below 75: {percentage_below_75:.2f}%\")\n",
    "print(f\"High Performers: {high_performers}\")\n",
    "print(f\"Passing Grades: {passing_grades}\")"
   ]
  },
  {
   "cell_type": "code",
   "execution_count": null,
   "id": "2b117d53-ef62-4d18-a96a-56454b4a2b0f",
   "metadata": {},
   "outputs": [],
   "source": []
  }
 ],
 "metadata": {
  "kernelspec": {
   "display_name": "Python 3 (ipykernel)",
   "language": "python",
   "name": "python3"
  },
  "language_info": {
   "codemirror_mode": {
    "name": "ipython",
    "version": 3
   },
   "file_extension": ".py",
   "mimetype": "text/x-python",
   "name": "python",
   "nbconvert_exporter": "python",
   "pygments_lexer": "ipython3",
   "version": "3.12.7"
  }
 },
 "nbformat": 4,
 "nbformat_minor": 5
}
