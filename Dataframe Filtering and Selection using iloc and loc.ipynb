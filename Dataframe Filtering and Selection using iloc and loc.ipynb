{
 "cells": [
  {
   "cell_type": "code",
   "execution_count": 1,
   "id": "c5b28ed1-b2d0-4cc4-b62d-77cc3078fae2",
   "metadata": {},
   "outputs": [],
   "source": [
    "# Import pandas\n",
    "import pandas as pd"
   ]
  },
  {
   "cell_type": "code",
   "execution_count": 3,
   "id": "e197e475-355d-406e-81fd-e9fed652051f",
   "metadata": {},
   "outputs": [],
   "source": [
    "# Create the employee_df dataframe\n",
    "data = {\n",
    "    'Name': ['John', 'Mary', 'Bob', 'Sarah', 'Tom', 'Lisa'],\n",
    "    'Department': ['IT', 'Marketing', 'Sales', 'IT', 'Finance', 'Marketing'],\n",
    "    'Age': [30, 40, 25, 35, 45, 28],\n",
    "    'Gender': ['Male', 'Female', 'Male', 'Female', 'Male', 'Female'],\n",
    "    'Salary': [50000, 60000, 45000, 55000, 70000, 55000],\n",
    "    'Experience': [3, 7, 2, 5, 10, 4]\n",
    "}"
   ]
  },
  {
   "cell_type": "code",
   "execution_count": 5,
   "id": "f7f10ecf-f5db-4331-b25a-01eba6c25ffd",
   "metadata": {},
   "outputs": [],
   "source": [
    "employee_df = pd.DataFrame(data)"
   ]
  },
  {
   "cell_type": "code",
   "execution_count": 7,
   "id": "9c66ca91-c497-4e73-8230-ad38a4415799",
   "metadata": {},
   "outputs": [],
   "source": [
    "# Use iloc to select the first 3 rows of the dataframe\n",
    "first_three_rows = employee_df.iloc[:3]"
   ]
  },
  {
   "cell_type": "code",
   "execution_count": 9,
   "id": "40bd145b-4e38-4c73-adc6-00e08efd3223",
   "metadata": {},
   "outputs": [],
   "source": [
    "# Use loc to select all rows where the Department is \"Marketing\"\n",
    "marketing_rows = employee_df.loc[employee_df['Department'] == 'Marketing']"
   ]
  },
  {
   "cell_type": "code",
   "execution_count": 11,
   "id": "643ae9db-6dec-42f0-9528-fb8dbee83441",
   "metadata": {},
   "outputs": [],
   "source": [
    "# Use iloc to select the Age and Gender columns for the first 4 rows of the dataframe\n",
    "age_gender_first_four = employee_df.iloc[:4, [2, 3]]"
   ]
  },
  {
   "cell_type": "code",
   "execution_count": 13,
   "id": "0ca8f55c-52be-4368-aaac-d6d0fe18052f",
   "metadata": {},
   "outputs": [],
   "source": [
    "# Use loc to select the Salary and Experience columns for all rows where the Gender is \"Male\"\n",
    "salary_experience_male = employee_df.loc[employee_df['Gender'] == 'Male', ['Salary', 'Experience']]"
   ]
  },
  {
   "cell_type": "code",
   "execution_count": 15,
   "id": "0929848b-c073-4fa3-954b-22557e6f8176",
   "metadata": {},
   "outputs": [
    {
     "name": "stdout",
     "output_type": "stream",
     "text": [
      "First 3 rows:\n",
      "   Name Department  Age  Gender  Salary  Experience\n",
      "0  John         IT   30    Male   50000           3\n",
      "1  Mary  Marketing   40  Female   60000           7\n",
      "2   Bob      Sales   25    Male   45000           2 \n",
      "\n"
     ]
    }
   ],
   "source": [
    "# Print the results\n",
    "print(\"First 3 rows:\")\n",
    "print(first_three_rows, \"\\n\")"
   ]
  },
  {
   "cell_type": "code",
   "execution_count": 17,
   "id": "c7c01c6f-d43e-426f-b6cb-27eccdb51438",
   "metadata": {},
   "outputs": [
    {
     "name": "stdout",
     "output_type": "stream",
     "text": [
      "All rows where the Department is \"Marketing\":\n",
      "   Name Department  Age  Gender  Salary  Experience\n",
      "1  Mary  Marketing   40  Female   60000           7\n",
      "5  Lisa  Marketing   28  Female   55000           4 \n",
      "\n"
     ]
    }
   ],
   "source": [
    "print('All rows where the Department is \"Marketing\":')\n",
    "print(marketing_rows, \"\\n\")"
   ]
  },
  {
   "cell_type": "code",
   "execution_count": 19,
   "id": "6628f1af-2cbc-4c26-a016-d5b49c6783a5",
   "metadata": {},
   "outputs": [
    {
     "name": "stdout",
     "output_type": "stream",
     "text": [
      "Age and Gender columns for the first 4 rows:\n",
      "   Age  Gender\n",
      "0   30    Male\n",
      "1   40  Female\n",
      "2   25    Male\n",
      "3   35  Female \n",
      "\n"
     ]
    }
   ],
   "source": [
    "print(\"Age and Gender columns for the first 4 rows:\")\n",
    "print(age_gender_first_four, \"\\n\")"
   ]
  },
  {
   "cell_type": "code",
   "execution_count": 21,
   "id": "ac789159-6be7-4de0-b182-df926d96bd6e",
   "metadata": {},
   "outputs": [
    {
     "name": "stdout",
     "output_type": "stream",
     "text": [
      "Salary and Experience columns for all rows where the Gender is \"Male\":\n",
      "   Salary  Experience\n",
      "0   50000           3\n",
      "2   45000           2\n",
      "4   70000          10\n"
     ]
    }
   ],
   "source": [
    "print('Salary and Experience columns for all rows where the Gender is \"Male\":')\n",
    "print(salary_experience_male)"
   ]
  },
  {
   "cell_type": "code",
   "execution_count": null,
   "id": "5ce8c9bd-dfec-4692-86f9-a00098b47287",
   "metadata": {},
   "outputs": [],
   "source": []
  }
 ],
 "metadata": {
  "kernelspec": {
   "display_name": "Python 3 (ipykernel)",
   "language": "python",
   "name": "python3"
  },
  "language_info": {
   "codemirror_mode": {
    "name": "ipython",
    "version": 3
   },
   "file_extension": ".py",
   "mimetype": "text/x-python",
   "name": "python",
   "nbconvert_exporter": "python",
   "pygments_lexer": "ipython3",
   "version": "3.12.7"
  }
 },
 "nbformat": 4,
 "nbformat_minor": 5
}
