{
 "cells": [
  {
   "cell_type": "markdown",
   "id": "2c4d66d3-64c8-4805-b395-9e9188540bcf",
   "metadata": {},
   "source": [
    "## Here is a calculator created to do basic math functions:"
   ]
  },
  {
   "cell_type": "markdown",
   "id": "8edc1f8c-4652-4cd9-8445-dda2ca63c0bc",
   "metadata": {},
   "source": [
    " "
   ]
  },
  {
   "cell_type": "code",
   "execution_count": 5,
   "id": "9a700631-c977-4b73-bd05-657484019158",
   "metadata": {},
   "outputs": [],
   "source": [
    "#Create four basic mathematical functions: 'add', 'subtract', 'multiply', and 'divide' that take in two numbers and return the result of the operation."
   ]
  },
  {
   "cell_type": "code",
   "execution_count": 11,
   "id": "01355f14-d935-40c2-9f71-25184683a4a1",
   "metadata": {},
   "outputs": [],
   "source": [
    "def add(x, y):\n",
    "     return(x + y)"
   ]
  },
  {
   "cell_type": "code",
   "execution_count": 13,
   "id": "c419745f-48e5-48a1-b16d-4ac40c3b6566",
   "metadata": {},
   "outputs": [],
   "source": [
    "def subtract(x, y):\n",
    "    return(x - y)"
   ]
  },
  {
   "cell_type": "code",
   "execution_count": 15,
   "id": "ac494ab3-16f4-460b-8110-14e0468a3edf",
   "metadata": {},
   "outputs": [],
   "source": [
    "def multiply(x, y):\n",
    "    return(x * y)"
   ]
  },
  {
   "cell_type": "code",
   "execution_count": 17,
   "id": "e84f1282-2868-468b-a39a-06147f793aa2",
   "metadata": {},
   "outputs": [],
   "source": [
    "def divide(x, y):\n",
    "    return(x / y)"
   ]
  },
  {
   "cell_type": "code",
   "execution_count": 19,
   "id": "de6aa87c-05c7-4ced-ad10-11bd29acbe79",
   "metadata": {},
   "outputs": [],
   "source": [
    "# Create a dictionary 'operations' that assigns the functions to their corresponding operation symbols."
   ]
  },
  {
   "cell_type": "code",
   "execution_count": 21,
   "id": "08bebab6-f122-4ba7-ae33-014cb1cc8118",
   "metadata": {},
   "outputs": [],
   "source": [
    "symbols = {\n",
    "    'add': '+',\n",
    "    'subtract': '-',\n",
    "    'multiply': '*',\n",
    "    'divide': '/'\n",
    "}"
   ]
  },
  {
   "cell_type": "code",
   "execution_count": 23,
   "id": "5af0faa0-0464-41d1-b26b-44cf6e8cdc12",
   "metadata": {},
   "outputs": [],
   "source": [
    "operations = {\n",
    "    'add': lambda x, y: x + y,\n",
    "    'subtract': lambda x, y: x - y,\n",
    "    'multiply': lambda x, y: x * y,\n",
    "    'divide': lambda x, y: x / y if y != 0 else 'Error: Division by zero'\n",
    "}\n"
   ]
  },
  {
   "cell_type": "code",
   "execution_count": 25,
   "id": "94b7e602-8013-48b8-a5d2-93ec85085eaf",
   "metadata": {},
   "outputs": [],
   "source": [
    "# Create a function 'calculator' that prompts the user to input the first number."
   ]
  },
  {
   "cell_type": "code",
   "execution_count": 27,
   "id": "0424b124-334e-4024-b9ea-9645e44168f3",
   "metadata": {},
   "outputs": [],
   "source": [
    "calculator = operations['add'](5, 3)"
   ]
  },
  {
   "cell_type": "code",
   "execution_count": 29,
   "id": "5ae78906-d530-4780-8e33-ea706b182118",
   "metadata": {},
   "outputs": [
    {
     "name": "stdout",
     "output_type": "stream",
     "text": [
      "8\n"
     ]
    }
   ],
   "source": [
    "print(calculator)  # Output will be 8"
   ]
  },
  {
   "cell_type": "code",
   "execution_count": 31,
   "id": "8cc9fa3d-3b46-498d-a9c3-ce5a0ec8654a",
   "metadata": {},
   "outputs": [],
   "source": [
    "calculator = operations['subtract'](15, 2)"
   ]
  },
  {
   "cell_type": "code",
   "execution_count": 33,
   "id": "23899b55-718c-4360-91e1-62640b62dd9f",
   "metadata": {},
   "outputs": [
    {
     "name": "stdout",
     "output_type": "stream",
     "text": [
      "13\n"
     ]
    }
   ],
   "source": [
    "print(calculator)  # Output will be 13"
   ]
  },
  {
   "cell_type": "code",
   "execution_count": 35,
   "id": "a31d10d1-f2be-4784-bb50-bcc9519e0f87",
   "metadata": {},
   "outputs": [],
   "source": [
    "calculator = operations['divide'](10, 2)"
   ]
  },
  {
   "cell_type": "code",
   "execution_count": 37,
   "id": "37a14c02-5e53-4354-9bac-4a890bc4c328",
   "metadata": {},
   "outputs": [
    {
     "name": "stdout",
     "output_type": "stream",
     "text": [
      "5.0\n"
     ]
    }
   ],
   "source": [
    "print(calculator)  # Output will be 5.0"
   ]
  },
  {
   "cell_type": "code",
   "execution_count": null,
   "id": "d1ae5ed3-b11e-4e76-97a3-d039f9734b08",
   "metadata": {},
   "outputs": [],
   "source": []
  },
  {
   "cell_type": "code",
   "execution_count": 46,
   "id": "1299bc10-eeec-4452-9a47-7c5da0da4b02",
   "metadata": {},
   "outputs": [
    {
     "name": "stdout",
     "output_type": "stream",
     "text": [
      "add\n",
      "subtract\n",
      "multiply\n",
      "divide\n"
     ]
    }
   ],
   "source": [
    "# Use a for loop to print the available operation symbols.\n",
    "for i in operations: \n",
    "    print(i) \n"
   ]
  },
  {
   "cell_type": "code",
   "execution_count": 48,
   "id": "938fc930-ad92-48e0-a31e-77a921137d43",
   "metadata": {},
   "outputs": [],
   "source": [
    "# Create a while loop that will continue to run until the user chooses to end the current calculation."
   ]
  },
  {
   "cell_type": "code",
   "execution_count": 50,
   "id": "3cab99e9-2244-448c-ad2f-7812442604e6",
   "metadata": {},
   "outputs": [],
   "source": [
    "# Inside the while loop, prompt the user to select an operation symbol."
   ]
  },
  {
   "cell_type": "code",
   "execution_count": 54,
   "id": "e01868a0-7af6-4b5a-893e-d1536d9963fa",
   "metadata": {},
   "outputs": [],
   "source": [
    "# Prompt the user to input the second number."
   ]
  },
  {
   "cell_type": "code",
   "execution_count": 56,
   "id": "09934e46-1240-4fb2-bc4d-49712b8a7d49",
   "metadata": {},
   "outputs": [],
   "source": [
    "# Use the dictionary to retrieve the function that corresponds to the selected operation symbol and store it in a variable 'calculation_function'"
   ]
  },
  {
   "cell_type": "code",
   "execution_count": 58,
   "id": "0053510f-68c2-4ea5-a417-1dd6e91204e6",
   "metadata": {},
   "outputs": [],
   "source": [
    "# Print the equation and the result of the calculation."
   ]
  },
  {
   "cell_type": "code",
   "execution_count": 60,
   "id": "dec5db11-b3bd-41d0-ad80-f379b480324b",
   "metadata": {},
   "outputs": [],
   "source": [
    "# Ask the user if they would like to continue using the result as the first number for further calculations."
   ]
  },
  {
   "cell_type": "code",
   "execution_count": 62,
   "id": "0e9fc671-e6c3-4eb0-9f6a-59cf70dab08d",
   "metadata": {},
   "outputs": [],
   "source": [
    "# If the user chooses to continue, update the 'num1' variable to the value of 'answer'."
   ]
  },
  {
   "cell_type": "code",
   "execution_count": 64,
   "id": "cd9e0918-5b47-422b-b080-f23a3285adbe",
   "metadata": {},
   "outputs": [],
   "source": [
    "# If the user chooses to start a new calculation, set the 'should_continue' variable to false and call the 'calculator' function to start a new calculation."
   ]
  },
  {
   "cell_type": "code",
   "execution_count": 66,
   "id": "e38e2a59-3bf9-4781-9ecb-a66a0ff03b76",
   "metadata": {},
   "outputs": [],
   "source": [
    "def calculator():\n",
    "    while True:\n",
    "        num1 = float(input(\"Enter the first number: \"))"
   ]
  },
  {
   "cell_type": "code",
   "execution_count": null,
   "id": "c337f1c8-672b-4809-9e7e-3d9e2aa61b1a",
   "metadata": {},
   "outputs": [],
   "source": [
    "should_continue = True\n",
    "while should_continue:\n",
    "    print(\"Available operations: add (+), subtract (-), multiply (*), divide (/)\")\n",
    "    operation_symbol = input(\"Select an operation symbol: \")"
   ]
  },
  {
   "cell_type": "code",
   "execution_count": null,
   "id": "3bfe16d7-8d98-40e4-b391-295bd551977d",
   "metadata": {},
   "outputs": [],
   "source": [
    " if operation_symbol not in operations.keys():\n",
    "                print(\"Invalid operation! Please choose a valid operation.\")\n",
    "                continue"
   ]
  },
  {
   "cell_type": "code",
   "execution_count": null,
   "id": "9c26c630-ba42-4cb5-8a99-71939995c88d",
   "metadata": {},
   "outputs": [],
   "source": [
    "num2 = float(input(\"Enter the second number: \"))"
   ]
  },
  {
   "cell_type": "code",
   "execution_count": null,
   "id": "72e6a406-1f2f-431c-978e-55787cf8c27e",
   "metadata": {},
   "outputs": [],
   "source": [
    "calculation_function = operations[operation_symbol]\n",
    "answer = calculation_function(num1, num2)\n",
    "            print(f\"{num1} {operation_symbol} {num2} = {answer}\")\n"
   ]
  },
  {
   "cell_type": "code",
   "execution_count": null,
   "id": "7e7fa0ea-0ce3-481f-9000-1e7278cf46bf",
   "metadata": {},
   "outputs": [],
   "source": [
    " should_continue = input(\"Would you like to continue using the result as the first number? (yes/no): \").lower() == 'yes'\n",
    "            if should_continue:\n",
    "                num1 = answer\n",
    "            else:\n",
    "                break"
   ]
  },
  {
   "cell_type": "code",
   "execution_count": null,
   "id": "86854fd1-1f0f-47df-9b09-99eb821aafa4",
   "metadata": {},
   "outputs": [],
   "source": [
    " if input(\"Do you want to start a new calculation? (yes/no): \").lower() != 'yes':\n",
    "            print(\"Ending the calculation session. Goodbye!\")\n",
    "            break"
   ]
  },
  {
   "cell_type": "code",
   "execution_count": null,
   "id": "ed37a267-1c7a-40cb-b2cc-64b73bc89ca5",
   "metadata": {},
   "outputs": [],
   "source": [
    "calculator()"
   ]
  },
  {
   "cell_type": "code",
   "execution_count": null,
   "id": "40e9fe08-426c-4cf6-bde5-9673da903e3f",
   "metadata": {},
   "outputs": [],
   "source": []
  }
 ],
 "metadata": {
  "kernelspec": {
   "display_name": "Python 3 (ipykernel)",
   "language": "python",
   "name": "python3"
  },
  "language_info": {
   "codemirror_mode": {
    "name": "ipython",
    "version": 3
   },
   "file_extension": ".py",
   "mimetype": "text/x-python",
   "name": "python",
   "nbconvert_exporter": "python",
   "pygments_lexer": "ipython3",
   "version": "3.12.7"
  }
 },
 "nbformat": 4,
 "nbformat_minor": 5
}
