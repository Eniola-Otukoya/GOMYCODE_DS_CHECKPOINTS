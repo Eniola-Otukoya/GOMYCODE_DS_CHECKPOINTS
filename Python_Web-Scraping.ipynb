{
 "cells": [
  {
   "cell_type": "code",
   "execution_count": 1,
   "id": "d86048a2-36ad-42c1-8ef5-20d041c9e974",
   "metadata": {},
   "outputs": [],
   "source": [
    "import requests\n",
    "from bs4 import BeautifulSoup\n",
    "import string"
   ]
  },
  {
   "cell_type": "code",
   "execution_count": null,
   "id": "a3714867-85f2-435d-884c-afef24d9f4cf",
   "metadata": {},
   "outputs": [],
   "source": [
    "# Get user input\n",
    "Enter_input = input('Search: ')\n",
    "# Capitalize user input\n",
    "u_i = string.capwords(Enter_input)\n",
    "lists = u_i.split()\n",
    "word = '_'.join(lists)"
   ]
  },
  {
   "cell_type": "code",
   "execution_count": null,
   "id": "12ff93f0-8948-4461-b52b-120b3a66ab3c",
   "metadata": {},
   "outputs": [],
   "source": [
    "# Construct the Wikipedia URL\n",
    "url = 'https://en.wikipedia.org/wiki/' + word"
   ]
  },
  {
   "cell_type": "code",
   "execution_count": null,
   "id": "0086d6d4-fe4b-47c2-a0f0-6d3f43d89f6c",
   "metadata": {},
   "outputs": [],
   "source": [
    "# define the wikibot function\n",
    "def wikibot(url):\n",
    "    try:\n",
    "        # Fetch the content from the URL\n",
    "        url_open = requests.get(url)\n",
    "        url_open.raise_for_status()  # Raise an error for bad responses\n",
    "        soup = BeautifulSoup(url_open.content, 'html.parser')"
   ]
  },
  {
   "cell_type": "code",
   "execution_count": null,
   "id": "71d85bf1-aa3d-427e-a86d-6157b85f367d",
   "metadata": {},
   "outputs": [],
   "source": [
    "# Find the infobox\n",
    "        details = soup.find_all('table', {'class': 'infobox'})\n",
    "        \n",
    "        if not details:\n",
    "            print(\"No infobox found for this page.\")\n",
    "            return\n",
    "        \n",
    "        for i in details:\n",
    "            h = i.find_all('tr')\n",
    "            for j in h:\n",
    "                heading = j.find_all('th')\n",
    "                detail = j.find_all('td')\n",
    "                if heading and detail:  # Check if both lists are not empty\n",
    "                    for x, y in zip(heading, detail):\n",
    "                        print(\"{} :: {}\".format(x.text.strip(), y.text.strip()))\n",
    "                        print(\"----------------\")\n",
    "        "
   ]
  },
  {
   "cell_type": "code",
   "execution_count": null,
   "id": "d3b93766-9783-4207-948f-dd482998ab8b",
   "metadata": {},
   "outputs": [],
   "source": [
    " # Print the first two paragraphs\n",
    "        paragraphs = soup.find_all('p')\n",
    "        for i in range(min(2, len(paragraphs))):  # Ensure we don't go out of bounds\n",
    "            print(paragraphs[i].text.strip())\n",
    "    \n",
    "    except requests.exceptions.RequestException as e:\n",
    "        print(f\"An error occurred: {e}\")"
   ]
  },
  {
   "cell_type": "code",
   "execution_count": null,
   "id": "fcf2955c-10b0-4a88-84ba-6fd65f8a2d45",
   "metadata": {},
   "outputs": [],
   "source": [
    "# Call the function\n",
    "wikibot(url)"
   ]
  },
  {
   "cell_type": "code",
   "execution_count": null,
   "id": "73e41897-4ca6-4ffc-a132-5c64903d4e2e",
   "metadata": {},
   "outputs": [],
   "source": [
    "Area :: 30,370,000 km2 (11,730,000 sq mi)  (2nd)\n",
    "----------------\n",
    "Population :: 1,393,676,444[1][2] (2021; 2nd)\n",
    "----------------\n",
    "Population density :: 46.1/km2 (119.4/sq mi) (2021)\n",
    "----------------\n",
    "GDP (PPP) :: $8.05 trillion (2022 est; 4th)[3]\n",
    "----------------\n",
    "GDP (nominal) :: $2.96 trillion (2022 est; 5th)[4]\n",
    "----------------\n",
    "GDP per capita :: $2,180 (Nominal; 2022 est; 6th)[5]\n",
    "----------------\n",
    "Religions :: Christianity (49%)Islam (42%)Traditional faiths (8%)[A]Others  (1%)[6]\n",
    "----------------\n",
    "Demonym :: African\n",
    "----------------\n",
    "Countries :: 54 recognized states, 2 partially recognized states, 4 dependent territories\n",
    "----------------\n",
    "Dependencies :: External (4)\n",
    " Bouvet Island French Southern Territories Heard Island and McDonald Islands Saint Helena, Ascension and Tristan da Cunha\n"
   ]
  },
  {
   "cell_type": "code",
   "execution_count": null,
   "id": "17cc9ce6-7c1e-4ae1-a22f-bcdac7ca007b",
   "metadata": {},
   "outputs": [],
   "source": []
  }
 ],
 "metadata": {
  "kernelspec": {
   "display_name": "Python 3 (ipykernel)",
   "language": "python",
   "name": "python3"
  },
  "language_info": {
   "codemirror_mode": {
    "name": "ipython",
    "version": 3
   },
   "file_extension": ".py",
   "mimetype": "text/x-python",
   "name": "python",
   "nbconvert_exporter": "python",
   "pygments_lexer": "ipython3",
   "version": "3.12.7"
  }
 },
 "nbformat": 4,
 "nbformat_minor": 5
}
