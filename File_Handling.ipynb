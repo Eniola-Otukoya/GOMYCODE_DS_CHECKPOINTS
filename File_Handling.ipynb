{
 "cells": [
  {
   "cell_type": "code",
   "execution_count": 1,
   "id": "f02f9808-b494-443f-b49b-d204c3ae01db",
   "metadata": {},
   "outputs": [],
   "source": [
    "import numpy as np"
   ]
  },
  {
   "cell_type": "code",
   "execution_count": 29,
   "id": "d77a74cd-f01e-457b-b9bf-e91d6f717a38",
   "metadata": {},
   "outputs": [],
   "source": [
    "# Define the file path\n",
    "path = r\"C:\\Users\\User\\Desktop\\gomycode\\Loan_prediction_dataset.csv\""
   ]
  },
  {
   "cell_type": "code",
   "execution_count": 33,
   "id": "2d406ff4-656b-431b-a7d8-f8dcd0037bcd",
   "metadata": {},
   "outputs": [
    {
     "ename": "SyntaxError",
     "evalue": "invalid syntax (1814186327.py, line 2)",
     "output_type": "error",
     "traceback": [
      "\u001b[1;36m  Cell \u001b[1;32mIn[33], line 2\u001b[1;36m\u001b[0m\n\u001b[1;33m    open(file_path, 'r') as file\u001b[0m\n\u001b[1;37m                         ^\u001b[0m\n\u001b[1;31mSyntaxError\u001b[0m\u001b[1;31m:\u001b[0m invalid syntax\n"
     ]
    }
   ],
   "source": [
    "# Open the CSV file and read the data into a numpy array\n",
    "open(file_path, 'r') as file\n",
    "     data = np.genfromtxt(file, delimiter=',', skip_header=1)"
   ]
  },
  {
   "cell_type": "code",
   "execution_count": null,
   "id": "dd30c3bc-41e5-4689-bea4-67240b010e56",
   "metadata": {},
   "outputs": [],
   "source": []
  },
  {
   "cell_type": "code",
   "execution_count": null,
   "id": "901058e7-b600-42a8-a2fc-3a26919c5292",
   "metadata": {},
   "outputs": [],
   "source": []
  },
  {
   "cell_type": "code",
   "execution_count": null,
   "id": "00b1953d-1b19-4cb9-97ed-28eef7fe351a",
   "metadata": {},
   "outputs": [],
   "source": []
  }
 ],
 "metadata": {
  "kernelspec": {
   "display_name": "Python 3 (ipykernel)",
   "language": "python",
   "name": "python3"
  },
  "language_info": {
   "codemirror_mode": {
    "name": "ipython",
    "version": 3
   },
   "file_extension": ".py",
   "mimetype": "text/x-python",
   "name": "python",
   "nbconvert_exporter": "python",
   "pygments_lexer": "ipython3",
   "version": "3.12.7"
  }
 },
 "nbformat": 4,
 "nbformat_minor": 5
}
