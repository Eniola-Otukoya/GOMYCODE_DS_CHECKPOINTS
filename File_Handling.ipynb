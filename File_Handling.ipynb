{
 "cells": [
  {
   "cell_type": "code",
   "execution_count": 60,
   "id": "f02f9808-b494-443f-b49b-d204c3ae01db",
   "metadata": {},
   "outputs": [],
   "source": [
    "import numpy as np"
   ]
  },
  {
   "cell_type": "code",
   "execution_count": 29,
   "id": "d77a74cd-f01e-457b-b9bf-e91d6f717a38",
   "metadata": {},
   "outputs": [],
   "source": [
    "# Define the file path\n",
    "path = r\"C:\\Users\\User\\Desktop\\gomycode\\Loan_prediction_dataset.csv\""
   ]
  },
  {
   "cell_type": "code",
   "execution_count": 120,
   "id": "2d406ff4-656b-431b-a7d8-f8dcd0037bcd",
   "metadata": {},
   "outputs": [],
   "source": [
    "# Open the CSV file and read the data into a numpy array\n",
    "# import csv\n",
    "# with open(path, 'r') as file:\n",
    "#     data = csv.reader(file)\n",
    "#     for row in data:\n",
    "#         loan_amount = row[8]\n",
    "#         print(loan_amount)\n",
    "#         continue\n",
    "        \n",
    "    \n",
    "    \n",
    "data = np.genfromtxt(path, delimiter=',', skip_header=1, filling_values=0, usecols=8)"
   ]
  },
  {
   "cell_type": "code",
   "execution_count": 122,
   "id": "dd30c3bc-41e5-4689-bea4-67240b010e56",
   "metadata": {
    "collapsed": true,
    "jupyter": {
     "outputs_hidden": true
    },
    "scrolled": true
   },
   "outputs": [
    {
     "data": {
      "text/plain": [
       "array([  0., 128.,  66., 120., 141., 267.,  95., 158., 168., 349.,  70.,\n",
       "       109., 200., 114.,  17., 125., 100.,  76., 133., 115., 104., 315.,\n",
       "       116., 112., 151., 191., 122., 110.,  35., 120., 201.,  74., 106.,\n",
       "       114., 320.,   0., 100., 144., 184., 110.,  80.,  47.,  75., 134.,\n",
       "        96.,  88.,  44., 144., 120., 144., 100., 120., 112., 134., 286.,\n",
       "        97.,  96., 135., 180., 144., 120.,  99., 165.,   0., 116., 258.,\n",
       "       126., 312., 125., 136., 172.,  97.,  81.,  95., 187., 113., 176.,\n",
       "       110., 180., 130., 111.,   0., 167., 265.,  50., 136.,  99., 104.,\n",
       "       210., 175., 131., 188.,  81., 122.,  25.,   0., 137.,  50., 115.,\n",
       "       131., 133., 151.,   0.,   0., 160., 100., 225., 120., 216.,  94.,\n",
       "       136., 139., 152.,   0., 118., 185., 154.,  85., 175., 259., 180.,\n",
       "        44., 137.,  81., 194.,  93., 370.,   0., 160., 182., 650.,  74.,\n",
       "        70.,  25., 102., 290.,  84.,  88., 242., 129., 185., 168., 175.,\n",
       "       122., 187., 100.,  70.,  30., 225., 125., 118., 152., 244., 113.,\n",
       "        50., 600., 160., 187., 120., 255.,  98., 275., 121., 158.,  75.,\n",
       "       182., 112., 129.,  63., 200.,  95., 700.,  81., 187.,  87., 116.,\n",
       "       101., 495., 116., 102., 180.,  67.,  73., 260., 108., 120.,  66.,\n",
       "        58., 168., 188.,  48., 164., 160.,  76., 120., 170., 187., 120.,\n",
       "       113.,  83.,  90., 166.,   0., 135., 124., 120.,  80.,  55.,  59.,\n",
       "       127., 214., 128., 240., 130., 137., 100., 135., 131.,  72., 127.,\n",
       "        60., 116., 144., 175., 128., 170., 138., 210., 158., 200., 104.,\n",
       "        42., 120., 280., 140., 170., 255., 122., 112.,  96., 120., 140.,\n",
       "       155., 108., 123., 120., 112., 137., 123.,  90., 201., 138., 104.,\n",
       "       279., 192., 255., 115.,  94., 304., 128., 330., 134., 155., 120.,\n",
       "       128., 151., 150., 160., 135.,  90.,  30., 136., 126., 150.,  90.,\n",
       "       115., 207.,  80., 436., 124., 158., 112.,  78.,  54.,   0.,  89.,\n",
       "        99., 120., 115., 187., 139., 127., 134., 143., 172., 110., 200.,\n",
       "       135., 151., 113.,  93., 105., 132.,  96., 140.,   0., 135., 104.,\n",
       "       480., 185.,  84., 111.,  56., 144., 159., 111., 120.,  88., 112.,\n",
       "       155., 115., 124.,   0., 132., 300., 376., 130., 184., 110.,  67.,\n",
       "       117.,  98.,  71., 490., 182.,  70., 160., 176.,   0.,  71., 173.,\n",
       "        46., 158.,  74., 125., 160., 152., 126., 259., 187., 228., 308.,\n",
       "        95., 105., 130., 116., 165.,  67., 100., 200.,  81., 236., 130.,\n",
       "        95., 141., 133.,  96., 124., 175., 570.,  55., 155., 380., 111.,\n",
       "       110., 120., 130., 130.,  71., 130., 128., 296., 156., 128., 100.,\n",
       "       113., 132.,   0., 136., 125., 185., 275., 120., 113., 113., 135.,\n",
       "        71.,  95., 109., 103.,  45.,  65., 103.,  53., 194., 115., 115.,\n",
       "        66., 152., 360.,  62., 160., 218., 110., 178.,  60., 160., 239.,\n",
       "       112., 138., 138.,  80., 100., 110.,  96., 121.,  81., 133.,  87.,\n",
       "        60., 150., 105., 405., 143., 100.,   0.,  50.,   0., 187., 138.,\n",
       "       187., 180., 148., 152., 175., 130., 110.,  55., 150., 190., 125.,\n",
       "        60., 149.,  90.,  84.,  96., 118., 173., 136., 160., 160., 128.,\n",
       "       153., 132.,  98., 140.,  70., 110.,  98., 110., 162., 113., 100.,\n",
       "        93., 162., 150., 230., 132.,  86.,   0., 154., 113., 128., 234.,\n",
       "       246., 131.,  80., 500., 160.,  75.,  96., 186., 110., 225., 119.,\n",
       "       105., 107., 111.,  95., 209., 113., 100., 208., 138., 124., 243.,\n",
       "       480.,  96., 188.,  40., 100., 250., 148.,  70., 311., 150., 113.,\n",
       "       123., 185.,  95.,  45.,  55., 100., 480.,   0., 400., 110., 161.,\n",
       "        94., 130., 216., 100., 110., 196., 125., 126., 324., 107.,  66.,\n",
       "       157., 140.,  99.,  95., 128., 102., 155.,  80., 145., 103., 110.,\n",
       "         0.,   0., 158., 181., 132.,  26.,  84., 260., 162., 182., 108.,\n",
       "       600., 211., 132., 258., 120.,  70., 123.,   9., 104., 186., 165.,\n",
       "       275., 187., 150., 108., 136., 110., 107., 161., 205.,  90.,  36.,\n",
       "        61., 146., 172., 104.,  70.,  94., 106.,  56., 205., 292., 142.,\n",
       "       260., 110., 187.,  88., 180., 192., 350., 155., 128., 172., 496.,\n",
       "         0., 173., 157., 108.,  71.,  40., 253., 187., 133.])"
      ]
     },
     "execution_count": 122,
     "metadata": {},
     "output_type": "execute_result"
    }
   ],
   "source": [
    "data"
   ]
  },
  {
   "cell_type": "code",
   "execution_count": 157,
   "id": "901058e7-b600-42a8-a2fc-3a26919c5292",
   "metadata": {},
   "outputs": [],
   "source": [
    "# Assuming the loan amounts are in the last column\n",
    "loan_amounts = data[-1]"
   ]
  },
  {
   "cell_type": "code",
   "execution_count": 126,
   "id": "00b1953d-1b19-4cb9-97ed-28eef7fe351a",
   "metadata": {},
   "outputs": [],
   "source": [
    "# Calculate the mean, median, and standard deviation of the loan amounts"
   ]
  },
  {
   "cell_type": "code",
   "execution_count": 128,
   "id": "4c51122d-3bd8-4a73-a999-2518933b354a",
   "metadata": {},
   "outputs": [
    {
     "data": {
      "text/plain": [
       "'133'"
      ]
     },
     "execution_count": 128,
     "metadata": {},
     "output_type": "execute_result"
    }
   ],
   "source": [
    "loan_amount"
   ]
  },
  {
   "cell_type": "code",
   "execution_count": 130,
   "id": "2f6043cc-c163-4bda-a8f2-f092ebc94b37",
   "metadata": {},
   "outputs": [
    {
     "data": {
      "text/plain": [
       "141.16612377850163"
      ]
     },
     "execution_count": 130,
     "metadata": {},
     "output_type": "execute_result"
    }
   ],
   "source": [
    "np.mean(data)"
   ]
  },
  {
   "cell_type": "code",
   "execution_count": 139,
   "id": "0bc00ea9-0817-4dac-8954-a0042aabe452",
   "metadata": {},
   "outputs": [
    {
     "data": {
      "text/plain": [
       "125.0"
      ]
     },
     "execution_count": 139,
     "metadata": {},
     "output_type": "execute_result"
    }
   ],
   "source": [
    "np.median(data)"
   ]
  },
  {
   "cell_type": "code",
   "execution_count": 145,
   "id": "4cc2c11f-52ff-4e8e-84c6-5537a6bc48fd",
   "metadata": {},
   "outputs": [
    {
     "data": {
      "text/plain": [
       "88.2686624330009"
      ]
     },
     "execution_count": 145,
     "metadata": {},
     "output_type": "execute_result"
    }
   ],
   "source": [
    "np.std(data)"
   ]
  },
  {
   "cell_type": "code",
   "execution_count": 153,
   "id": "1bf1cbe9-5fa7-43bf-9346-9d1cd43c71a1",
   "metadata": {},
   "outputs": [
    {
     "name": "stdout",
     "output_type": "stream",
     "text": [
      "mean loan amount: <function mean at 0x000002C864214720>\n",
      "median loan amount: <function median at 0x000002C864357380>\n",
      "Standard deviation of loan amount: 88.2686624330009\n"
     ]
    }
   ],
   "source": [
    "# Print the results\n",
    "print(\"mean loan amount:\", np.mean)\n",
    "print(\"median loan amount:\", np.median)\n",
    "print(\"Standard deviation of loan amount:\", std_loan)"
   ]
  },
  {
   "cell_type": "code",
   "execution_count": null,
   "id": "27098afd-2979-4ae7-8248-7fa3ed762493",
   "metadata": {},
   "outputs": [],
   "source": []
  }
 ],
 "metadata": {
  "kernelspec": {
   "display_name": "Python 3 (ipykernel)",
   "language": "python",
   "name": "python3"
  },
  "language_info": {
   "codemirror_mode": {
    "name": "ipython",
    "version": 3
   },
   "file_extension": ".py",
   "mimetype": "text/x-python",
   "name": "python",
   "nbconvert_exporter": "python",
   "pygments_lexer": "ipython3",
   "version": "3.12.7"
  }
 },
 "nbformat": 4,
 "nbformat_minor": 5
}
